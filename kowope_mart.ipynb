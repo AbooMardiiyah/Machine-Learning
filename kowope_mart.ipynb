{
 "cells": [
  {
   "cell_type": "code",
   "execution_count": 217,
   "metadata": {},
   "outputs": [],
   "source": [
    "import numpy as np\n",
    "import pandas as pd\n",
    "import matplotlib.pyplot as plt\n",
    "from sklearn.model_selection import train_test_split,cross_val_score\n",
    "from sklearn.model_selection import RandomizedSearchCV,GridSearchCV\n",
    "from sklearn.ensemble import RandomForestClassifier\n",
    "from sklearn.linear_model import LogisticRegression\n",
    "from sklearn.ensemble import AdaBoostClassifier\n",
    "import seaborn as sns\n",
    "import xgboost as xgb\n",
    "from xgboost import XGBClassifier\n",
    "from xgboost import plot_importance"
   ]
  },
  {
   "cell_type": "code",
   "execution_count": 174,
   "metadata": {},
   "outputs": [],
   "source": [
    "df=pd.read_csv('Train.csv')"
   ]
  },
  {
   "cell_type": "code",
   "execution_count": 175,
   "metadata": {},
   "outputs": [
    {
     "data": {
      "text/plain": [
       "Applicant_ID       object\n",
       "form_field1       float64\n",
       "form_field2       float64\n",
       "form_field3       float64\n",
       "form_field4       float64\n",
       "form_field5       float64\n",
       "form_field6       float64\n",
       "form_field7       float64\n",
       "form_field8       float64\n",
       "form_field9       float64\n",
       "form_field10      float64\n",
       "form_field11      float64\n",
       "form_field12      float64\n",
       "form_field13      float64\n",
       "form_field14        int64\n",
       "form_field15      float64\n",
       "form_field16      float64\n",
       "form_field17      float64\n",
       "form_field18      float64\n",
       "form_field19      float64\n",
       "form_field20      float64\n",
       "form_field21      float64\n",
       "form_field22      float64\n",
       "form_field23      float64\n",
       "form_field24      float64\n",
       "form_field25      float64\n",
       "form_field26      float64\n",
       "form_field27      float64\n",
       "form_field28      float64\n",
       "form_field29      float64\n",
       "form_field30      float64\n",
       "form_field31      float64\n",
       "form_field32      float64\n",
       "form_field33      float64\n",
       "form_field34      float64\n",
       "form_field35      float64\n",
       "form_field36      float64\n",
       "form_field37      float64\n",
       "form_field38      float64\n",
       "form_field39      float64\n",
       "form_field40      float64\n",
       "form_field41      float64\n",
       "form_field42      float64\n",
       "form_field43      float64\n",
       "form_field44      float64\n",
       "form_field45      float64\n",
       "form_field46      float64\n",
       "form_field47       object\n",
       "form_field48      float64\n",
       "form_field49      float64\n",
       "form_field50      float64\n",
       "default_status     object\n",
       "dtype: object"
      ]
     },
     "execution_count": 175,
     "metadata": {},
     "output_type": "execute_result"
    }
   ],
   "source": [
    "df.dtypes"
   ]
  },
  {
   "cell_type": "code",
   "execution_count": 176,
   "metadata": {},
   "outputs": [
    {
     "data": {
      "text/plain": [
       "Applicant_ID      0.000000\n",
       "form_field1       0.045161\n",
       "form_field2       0.068643\n",
       "form_field3       0.006339\n",
       "form_field4       0.006339\n",
       "form_field5       0.006339\n",
       "form_field6       0.238571\n",
       "form_field7       0.092196\n",
       "form_field8       0.238571\n",
       "form_field9       0.143000\n",
       "form_field10      0.006339\n",
       "form_field11      0.561089\n",
       "form_field12      0.176696\n",
       "form_field13      0.105161\n",
       "form_field14      0.000000\n",
       "form_field15      0.401339\n",
       "form_field16      0.232786\n",
       "form_field17      0.199125\n",
       "form_field18      0.185750\n",
       "form_field19      0.000071\n",
       "form_field20      0.006339\n",
       "form_field21      0.283107\n",
       "form_field22      0.364286\n",
       "form_field23      0.502196\n",
       "form_field24      0.237446\n",
       "form_field25      0.097321\n",
       "form_field26      0.132821\n",
       "form_field27      0.166054\n",
       "form_field28      0.006339\n",
       "form_field29      0.006339\n",
       "form_field30      0.455518\n",
       "form_field31      0.703714\n",
       "form_field32      0.097321\n",
       "form_field33      0.022429\n",
       "form_field34      0.006339\n",
       "form_field35      0.413357\n",
       "form_field36      0.035625\n",
       "form_field37      0.097321\n",
       "form_field38      0.006339\n",
       "form_field39      0.075196\n",
       "form_field40      0.780875\n",
       "form_field41      0.682661\n",
       "form_field42      0.023625\n",
       "form_field43      0.010143\n",
       "form_field44      0.096125\n",
       "form_field45      0.559232\n",
       "form_field46      0.284000\n",
       "form_field47      0.000000\n",
       "form_field48      0.373018\n",
       "form_field49      0.006339\n",
       "form_field50      0.197429\n",
       "default_status    0.000000\n",
       "dtype: float64"
      ]
     },
     "execution_count": 176,
     "metadata": {},
     "output_type": "execute_result"
    }
   ],
   "source": [
    "df.isna().mean()"
   ]
  },
  {
   "cell_type": "code",
   "execution_count": 177,
   "metadata": {},
   "outputs": [],
   "source": [
    "# df=df[df.columns[df.isnull().mean()<=0.5]]\n",
    "# df.head()"
   ]
  },
  {
   "cell_type": "code",
   "execution_count": 178,
   "metadata": {},
   "outputs": [
    {
     "data": {
      "text/plain": [
       "no     75.508929\n",
       "yes    24.491071\n",
       "Name: default_status, dtype: float64"
      ]
     },
     "execution_count": 178,
     "metadata": {},
     "output_type": "execute_result"
    }
   ],
   "source": [
    "100*(df.default_status.value_counts()/len(df))"
   ]
  },
  {
   "cell_type": "code",
   "execution_count": 179,
   "metadata": {},
   "outputs": [
    {
     "name": "stdout",
     "output_type": "stream",
     "text": [
      "form_field1\n",
      "form_field2\n",
      "form_field3\n",
      "form_field4\n",
      "form_field5\n",
      "form_field6\n",
      "form_field7\n",
      "form_field8\n",
      "form_field9\n",
      "form_field10\n",
      "form_field11\n",
      "form_field12\n",
      "form_field13\n",
      "form_field15\n",
      "form_field16\n",
      "form_field17\n",
      "form_field18\n",
      "form_field19\n",
      "form_field20\n",
      "form_field21\n",
      "form_field22\n",
      "form_field23\n",
      "form_field24\n",
      "form_field25\n",
      "form_field26\n",
      "form_field27\n",
      "form_field28\n",
      "form_field29\n",
      "form_field30\n",
      "form_field31\n",
      "form_field32\n",
      "form_field33\n",
      "form_field34\n",
      "form_field35\n",
      "form_field36\n",
      "form_field37\n",
      "form_field38\n",
      "form_field39\n",
      "form_field40\n",
      "form_field41\n",
      "form_field42\n",
      "form_field43\n",
      "form_field44\n",
      "form_field45\n",
      "form_field46\n",
      "form_field48\n",
      "form_field49\n",
      "form_field50\n"
     ]
    }
   ],
   "source": [
    "for label,content in df.items():\n",
    "    if pd.api.types.is_float_dtype(content):\n",
    "        print(label)"
   ]
  },
  {
   "cell_type": "code",
   "execution_count": 180,
   "metadata": {},
   "outputs": [
    {
     "name": "stdout",
     "output_type": "stream",
     "text": [
      "Applicant_ID\n",
      "form_field14\n",
      "form_field47\n",
      "default_status\n"
     ]
    }
   ],
   "source": [
    "for label,content in df.items():\n",
    "    if  not pd.api.types.is_float_dtype(content):\n",
    "        print(label)"
   ]
  },
  {
   "cell_type": "code",
   "execution_count": 181,
   "metadata": {},
   "outputs": [],
   "source": [
    "df.drop('Applicant_ID',axis=1,inplace=True)\n"
   ]
  },
  {
   "cell_type": "code",
   "execution_count": 182,
   "metadata": {},
   "outputs": [
    {
     "name": "stdout",
     "output_type": "stream",
     "text": [
      "form_field47\n",
      "default_status\n"
     ]
    }
   ],
   "source": [
    "for label,content in df.items():\n",
    "    if not pd.api.types.is_numeric_dtype(content):\n",
    "        print(label)"
   ]
  },
  {
   "cell_type": "code",
   "execution_count": 183,
   "metadata": {},
   "outputs": [],
   "source": [
    "for label,content in df.items():\n",
    "    if not pd.api.types.is_numeric_dtype(content):\n",
    "        df[label]=pd.Categorical(content).codes"
   ]
  },
  {
   "cell_type": "code",
   "execution_count": 184,
   "metadata": {},
   "outputs": [
    {
     "data": {
      "text/html": [
       "<div>\n",
       "<style scoped>\n",
       "    .dataframe tbody tr th:only-of-type {\n",
       "        vertical-align: middle;\n",
       "    }\n",
       "\n",
       "    .dataframe tbody tr th {\n",
       "        vertical-align: top;\n",
       "    }\n",
       "\n",
       "    .dataframe thead th {\n",
       "        text-align: right;\n",
       "    }\n",
       "</style>\n",
       "<table border=\"1\" class=\"dataframe\">\n",
       "  <thead>\n",
       "    <tr style=\"text-align: right;\">\n",
       "      <th></th>\n",
       "      <th>form_field1</th>\n",
       "      <th>form_field2</th>\n",
       "      <th>form_field3</th>\n",
       "      <th>form_field4</th>\n",
       "      <th>form_field5</th>\n",
       "      <th>form_field6</th>\n",
       "      <th>form_field7</th>\n",
       "      <th>form_field8</th>\n",
       "      <th>form_field9</th>\n",
       "      <th>form_field10</th>\n",
       "      <th>...</th>\n",
       "      <th>form_field42</th>\n",
       "      <th>form_field43</th>\n",
       "      <th>form_field44</th>\n",
       "      <th>form_field45</th>\n",
       "      <th>form_field46</th>\n",
       "      <th>form_field47</th>\n",
       "      <th>form_field48</th>\n",
       "      <th>form_field49</th>\n",
       "      <th>form_field50</th>\n",
       "      <th>default_status</th>\n",
       "    </tr>\n",
       "  </thead>\n",
       "  <tbody>\n",
       "    <tr>\n",
       "      <td>0</td>\n",
       "      <td>3436.0</td>\n",
       "      <td>0.28505</td>\n",
       "      <td>1.6560</td>\n",
       "      <td>0.0</td>\n",
       "      <td>0.0000</td>\n",
       "      <td>0.0</td>\n",
       "      <td>10689720.0</td>\n",
       "      <td>252072.0</td>\n",
       "      <td>4272776.0</td>\n",
       "      <td>11333126.0</td>\n",
       "      <td>...</td>\n",
       "      <td>0.392854</td>\n",
       "      <td>2.02</td>\n",
       "      <td>0.711632</td>\n",
       "      <td>0.0</td>\n",
       "      <td>0.0</td>\n",
       "      <td>0</td>\n",
       "      <td>NaN</td>\n",
       "      <td>1.129518</td>\n",
       "      <td>0.044335</td>\n",
       "      <td>0</td>\n",
       "    </tr>\n",
       "    <tr>\n",
       "      <td>1</td>\n",
       "      <td>3456.0</td>\n",
       "      <td>0.67400</td>\n",
       "      <td>0.2342</td>\n",
       "      <td>0.0</td>\n",
       "      <td>0.0000</td>\n",
       "      <td>0.0</td>\n",
       "      <td>898979.0</td>\n",
       "      <td>497531.0</td>\n",
       "      <td>9073814.0</td>\n",
       "      <td>2533168.0</td>\n",
       "      <td>...</td>\n",
       "      <td>0.314281</td>\n",
       "      <td>8.08</td>\n",
       "      <td>0.183584</td>\n",
       "      <td>NaN</td>\n",
       "      <td>0.0</td>\n",
       "      <td>0</td>\n",
       "      <td>349.805730</td>\n",
       "      <td>1.620483</td>\n",
       "      <td>0.322436</td>\n",
       "      <td>0</td>\n",
       "    </tr>\n",
       "    <tr>\n",
       "      <td>2</td>\n",
       "      <td>3276.0</td>\n",
       "      <td>0.53845</td>\n",
       "      <td>3.1510</td>\n",
       "      <td>0.0</td>\n",
       "      <td>6.2820</td>\n",
       "      <td>NaN</td>\n",
       "      <td>956940.0</td>\n",
       "      <td>NaN</td>\n",
       "      <td>192944.0</td>\n",
       "      <td>1079864.0</td>\n",
       "      <td>...</td>\n",
       "      <td>0.162965</td>\n",
       "      <td>18.18</td>\n",
       "      <td>0.791136</td>\n",
       "      <td>0.0</td>\n",
       "      <td>0.0</td>\n",
       "      <td>0</td>\n",
       "      <td>NaN</td>\n",
       "      <td>1.513370</td>\n",
       "      <td>0.011640</td>\n",
       "      <td>1</td>\n",
       "    </tr>\n",
       "    <tr>\n",
       "      <td>3</td>\n",
       "      <td>3372.0</td>\n",
       "      <td>0.17005</td>\n",
       "      <td>0.5050</td>\n",
       "      <td>0.0</td>\n",
       "      <td>0.0000</td>\n",
       "      <td>192166.0</td>\n",
       "      <td>3044703.0</td>\n",
       "      <td>385499.0</td>\n",
       "      <td>3986472.0</td>\n",
       "      <td>3621979.0</td>\n",
       "      <td>...</td>\n",
       "      <td>0.488884</td>\n",
       "      <td>2.02</td>\n",
       "      <td>0.685168</td>\n",
       "      <td>NaN</td>\n",
       "      <td>0.0</td>\n",
       "      <td>0</td>\n",
       "      <td>89.940100</td>\n",
       "      <td>0.664452</td>\n",
       "      <td>0.082729</td>\n",
       "      <td>0</td>\n",
       "    </tr>\n",
       "    <tr>\n",
       "      <td>4</td>\n",
       "      <td>3370.0</td>\n",
       "      <td>0.77270</td>\n",
       "      <td>1.1010</td>\n",
       "      <td>0.0</td>\n",
       "      <td>0.0000</td>\n",
       "      <td>1556.0</td>\n",
       "      <td>214728.0</td>\n",
       "      <td>214728.0</td>\n",
       "      <td>1284089.0</td>\n",
       "      <td>361770.0</td>\n",
       "      <td>...</td>\n",
       "      <td>0.275000</td>\n",
       "      <td>12.12</td>\n",
       "      <td>0.438168</td>\n",
       "      <td>0.0</td>\n",
       "      <td>0.0</td>\n",
       "      <td>0</td>\n",
       "      <td>97.887502</td>\n",
       "      <td>1.427891</td>\n",
       "      <td>0.045630</td>\n",
       "      <td>0</td>\n",
       "    </tr>\n",
       "    <tr>\n",
       "      <td>5</td>\n",
       "      <td>3724.0</td>\n",
       "      <td>NaN</td>\n",
       "      <td>0.0000</td>\n",
       "      <td>0.0</td>\n",
       "      <td>0.0000</td>\n",
       "      <td>192944.0</td>\n",
       "      <td>9244585.0</td>\n",
       "      <td>6761209.0</td>\n",
       "      <td>67963357.0</td>\n",
       "      <td>32902009.0</td>\n",
       "      <td>...</td>\n",
       "      <td>0.030558</td>\n",
       "      <td>12.12</td>\n",
       "      <td>0.382960</td>\n",
       "      <td>NaN</td>\n",
       "      <td>0.0</td>\n",
       "      <td>1</td>\n",
       "      <td>NaN</td>\n",
       "      <td>0.000000</td>\n",
       "      <td>NaN</td>\n",
       "      <td>0</td>\n",
       "    </tr>\n",
       "    <tr>\n",
       "      <td>6</td>\n",
       "      <td>3350.0</td>\n",
       "      <td>0.24205</td>\n",
       "      <td>0.3132</td>\n",
       "      <td>0.0</td>\n",
       "      <td>2.8188</td>\n",
       "      <td>NaN</td>\n",
       "      <td>580388.0</td>\n",
       "      <td>NaN</td>\n",
       "      <td>96472.0</td>\n",
       "      <td>580388.0</td>\n",
       "      <td>...</td>\n",
       "      <td>0.660000</td>\n",
       "      <td>1.01</td>\n",
       "      <td>0.513504</td>\n",
       "      <td>NaN</td>\n",
       "      <td>0.0</td>\n",
       "      <td>0</td>\n",
       "      <td>NaN</td>\n",
       "      <td>2.146512</td>\n",
       "      <td>0.004390</td>\n",
       "      <td>1</td>\n",
       "    </tr>\n",
       "    <tr>\n",
       "      <td>7</td>\n",
       "      <td>3416.0</td>\n",
       "      <td>0.87020</td>\n",
       "      <td>0.0570</td>\n",
       "      <td>0.0</td>\n",
       "      <td>0.0000</td>\n",
       "      <td>17505.0</td>\n",
       "      <td>186331.0</td>\n",
       "      <td>186331.0</td>\n",
       "      <td>1484813.0</td>\n",
       "      <td>326760.0</td>\n",
       "      <td>...</td>\n",
       "      <td>0.137500</td>\n",
       "      <td>3.03</td>\n",
       "      <td>0.635960</td>\n",
       "      <td>NaN</td>\n",
       "      <td>0.0</td>\n",
       "      <td>0</td>\n",
       "      <td>155.295994</td>\n",
       "      <td>0.946074</td>\n",
       "      <td>0.128389</td>\n",
       "      <td>0</td>\n",
       "    </tr>\n",
       "    <tr>\n",
       "      <td>8</td>\n",
       "      <td>3376.0</td>\n",
       "      <td>0.29180</td>\n",
       "      <td>0.5586</td>\n",
       "      <td>0.0</td>\n",
       "      <td>0.0000</td>\n",
       "      <td>18283.0</td>\n",
       "      <td>1105149.0</td>\n",
       "      <td>18283.0</td>\n",
       "      <td>115533.0</td>\n",
       "      <td>1557167.0</td>\n",
       "      <td>...</td>\n",
       "      <td>0.471427</td>\n",
       "      <td>4.04</td>\n",
       "      <td>0.410880</td>\n",
       "      <td>0.0</td>\n",
       "      <td>0.0</td>\n",
       "      <td>0</td>\n",
       "      <td>NaN</td>\n",
       "      <td>0.641601</td>\n",
       "      <td>0.009990</td>\n",
       "      <td>0</td>\n",
       "    </tr>\n",
       "    <tr>\n",
       "      <td>9</td>\n",
       "      <td>3310.0</td>\n",
       "      <td>0.24395</td>\n",
       "      <td>0.1562</td>\n",
       "      <td>0.0</td>\n",
       "      <td>0.0000</td>\n",
       "      <td>NaN</td>\n",
       "      <td>0.0</td>\n",
       "      <td>NaN</td>\n",
       "      <td>NaN</td>\n",
       "      <td>0.0</td>\n",
       "      <td>...</td>\n",
       "      <td>0.825000</td>\n",
       "      <td>1.01</td>\n",
       "      <td>0.800000</td>\n",
       "      <td>NaN</td>\n",
       "      <td>NaN</td>\n",
       "      <td>0</td>\n",
       "      <td>NaN</td>\n",
       "      <td>0.000000</td>\n",
       "      <td>NaN</td>\n",
       "      <td>1</td>\n",
       "    </tr>\n",
       "  </tbody>\n",
       "</table>\n",
       "<p>10 rows × 51 columns</p>\n",
       "</div>"
      ],
      "text/plain": [
       "   form_field1  form_field2  form_field3  form_field4  form_field5  \\\n",
       "0       3436.0      0.28505       1.6560          0.0       0.0000   \n",
       "1       3456.0      0.67400       0.2342          0.0       0.0000   \n",
       "2       3276.0      0.53845       3.1510          0.0       6.2820   \n",
       "3       3372.0      0.17005       0.5050          0.0       0.0000   \n",
       "4       3370.0      0.77270       1.1010          0.0       0.0000   \n",
       "5       3724.0          NaN       0.0000          0.0       0.0000   \n",
       "6       3350.0      0.24205       0.3132          0.0       2.8188   \n",
       "7       3416.0      0.87020       0.0570          0.0       0.0000   \n",
       "8       3376.0      0.29180       0.5586          0.0       0.0000   \n",
       "9       3310.0      0.24395       0.1562          0.0       0.0000   \n",
       "\n",
       "   form_field6  form_field7  form_field8  form_field9  form_field10  ...  \\\n",
       "0          0.0   10689720.0     252072.0    4272776.0    11333126.0  ...   \n",
       "1          0.0     898979.0     497531.0    9073814.0     2533168.0  ...   \n",
       "2          NaN     956940.0          NaN     192944.0     1079864.0  ...   \n",
       "3     192166.0    3044703.0     385499.0    3986472.0     3621979.0  ...   \n",
       "4       1556.0     214728.0     214728.0    1284089.0      361770.0  ...   \n",
       "5     192944.0    9244585.0    6761209.0   67963357.0    32902009.0  ...   \n",
       "6          NaN     580388.0          NaN      96472.0      580388.0  ...   \n",
       "7      17505.0     186331.0     186331.0    1484813.0      326760.0  ...   \n",
       "8      18283.0    1105149.0      18283.0     115533.0     1557167.0  ...   \n",
       "9          NaN          0.0          NaN          NaN           0.0  ...   \n",
       "\n",
       "   form_field42  form_field43  form_field44  form_field45  form_field46  \\\n",
       "0      0.392854          2.02      0.711632           0.0           0.0   \n",
       "1      0.314281          8.08      0.183584           NaN           0.0   \n",
       "2      0.162965         18.18      0.791136           0.0           0.0   \n",
       "3      0.488884          2.02      0.685168           NaN           0.0   \n",
       "4      0.275000         12.12      0.438168           0.0           0.0   \n",
       "5      0.030558         12.12      0.382960           NaN           0.0   \n",
       "6      0.660000          1.01      0.513504           NaN           0.0   \n",
       "7      0.137500          3.03      0.635960           NaN           0.0   \n",
       "8      0.471427          4.04      0.410880           0.0           0.0   \n",
       "9      0.825000          1.01      0.800000           NaN           NaN   \n",
       "\n",
       "   form_field47  form_field48  form_field49  form_field50  default_status  \n",
       "0             0           NaN      1.129518      0.044335               0  \n",
       "1             0    349.805730      1.620483      0.322436               0  \n",
       "2             0           NaN      1.513370      0.011640               1  \n",
       "3             0     89.940100      0.664452      0.082729               0  \n",
       "4             0     97.887502      1.427891      0.045630               0  \n",
       "5             1           NaN      0.000000           NaN               0  \n",
       "6             0           NaN      2.146512      0.004390               1  \n",
       "7             0    155.295994      0.946074      0.128389               0  \n",
       "8             0           NaN      0.641601      0.009990               0  \n",
       "9             0           NaN      0.000000           NaN               1  \n",
       "\n",
       "[10 rows x 51 columns]"
      ]
     },
     "execution_count": 184,
     "metadata": {},
     "output_type": "execute_result"
    }
   ],
   "source": [
    "df.head(10)"
   ]
  },
  {
   "cell_type": "code",
   "execution_count": 185,
   "metadata": {},
   "outputs": [
    {
     "name": "stdout",
     "output_type": "stream",
     "text": [
      "training data uses 21.0419921875 Mb\n"
     ]
    }
   ],
   "source": [
    "print('training data uses {0} Mb'.format(df.memory_usage().sum()/1024**2))"
   ]
  },
  {
   "cell_type": "code",
   "execution_count": 186,
   "metadata": {},
   "outputs": [],
   "source": [
    "for label,content in df.items():\n",
    "    if pd.api.types.is_numeric_dtype(content):\n",
    "        if pd.isnull(content).sum():\n",
    "            df[label +\"_is_missing\"]=pd.isnull(content)\n",
    "            df[label]=content.fillna(content.median())"
   ]
  },
  {
   "cell_type": "code",
   "execution_count": 187,
   "metadata": {},
   "outputs": [],
   "source": [
    "def convert_som_float_to_int(df):\n",
    "    float_cols=['form_field2','form_field3','form_field4','form_field5','form_field21','form_field22','form_field24',\n",
    "        'form_field25','form_field33','form_field42','form_field43','form_field44','form_field48',\n",
    "        'form_field49','form_field50']\n",
    "\n",
    "    int_cols=df.columns.drop(float_cols)\n",
    "\n",
    "    df.loc[:,int_cols]=df.loc[:,int_cols].astype('uint16')\n",
    "    \n",
    "    return df\n",
    "    \n",
    "    \n",
    "\n"
   ]
  },
  {
   "cell_type": "code",
   "execution_count": 188,
   "metadata": {},
   "outputs": [],
   "source": [
    "df=convert_som_float_to_int(df)"
   ]
  },
  {
   "cell_type": "code",
   "execution_count": 189,
   "metadata": {},
   "outputs": [
    {
     "name": "stdout",
     "output_type": "stream",
     "text": [
      "training data uses 15.3809814453125 Mb\n"
     ]
    }
   ],
   "source": [
    "print('training data uses {0} Mb'.format(df.memory_usage().sum()/1024**2))"
   ]
  },
  {
   "cell_type": "code",
   "execution_count": 190,
   "metadata": {},
   "outputs": [
    {
     "data": {
      "text/html": [
       "<div>\n",
       "<style scoped>\n",
       "    .dataframe tbody tr th:only-of-type {\n",
       "        vertical-align: middle;\n",
       "    }\n",
       "\n",
       "    .dataframe tbody tr th {\n",
       "        vertical-align: top;\n",
       "    }\n",
       "\n",
       "    .dataframe thead th {\n",
       "        text-align: right;\n",
       "    }\n",
       "</style>\n",
       "<table border=\"1\" class=\"dataframe\">\n",
       "  <thead>\n",
       "    <tr style=\"text-align: right;\">\n",
       "      <th></th>\n",
       "      <th>form_field1</th>\n",
       "      <th>form_field2</th>\n",
       "      <th>form_field3</th>\n",
       "      <th>form_field4</th>\n",
       "      <th>form_field5</th>\n",
       "      <th>form_field6</th>\n",
       "      <th>form_field7</th>\n",
       "      <th>form_field8</th>\n",
       "      <th>form_field9</th>\n",
       "      <th>form_field10</th>\n",
       "      <th>...</th>\n",
       "      <th>form_field40_is_missing</th>\n",
       "      <th>form_field41_is_missing</th>\n",
       "      <th>form_field42_is_missing</th>\n",
       "      <th>form_field43_is_missing</th>\n",
       "      <th>form_field44_is_missing</th>\n",
       "      <th>form_field45_is_missing</th>\n",
       "      <th>form_field46_is_missing</th>\n",
       "      <th>form_field48_is_missing</th>\n",
       "      <th>form_field49_is_missing</th>\n",
       "      <th>form_field50_is_missing</th>\n",
       "    </tr>\n",
       "  </thead>\n",
       "  <tbody>\n",
       "    <tr>\n",
       "      <td>0</td>\n",
       "      <td>3436</td>\n",
       "      <td>0.28505</td>\n",
       "      <td>1.6560</td>\n",
       "      <td>0.0</td>\n",
       "      <td>0.000</td>\n",
       "      <td>0</td>\n",
       "      <td>7352</td>\n",
       "      <td>55464</td>\n",
       "      <td>12936</td>\n",
       "      <td>60934</td>\n",
       "      <td>...</td>\n",
       "      <td>1</td>\n",
       "      <td>1</td>\n",
       "      <td>0</td>\n",
       "      <td>0</td>\n",
       "      <td>0</td>\n",
       "      <td>0</td>\n",
       "      <td>0</td>\n",
       "      <td>1</td>\n",
       "      <td>0</td>\n",
       "      <td>0</td>\n",
       "    </tr>\n",
       "    <tr>\n",
       "      <td>1</td>\n",
       "      <td>3456</td>\n",
       "      <td>0.67400</td>\n",
       "      <td>0.2342</td>\n",
       "      <td>0.0</td>\n",
       "      <td>0.000</td>\n",
       "      <td>0</td>\n",
       "      <td>47011</td>\n",
       "      <td>38779</td>\n",
       "      <td>29846</td>\n",
       "      <td>42800</td>\n",
       "      <td>...</td>\n",
       "      <td>1</td>\n",
       "      <td>1</td>\n",
       "      <td>0</td>\n",
       "      <td>0</td>\n",
       "      <td>0</td>\n",
       "      <td>1</td>\n",
       "      <td>0</td>\n",
       "      <td>0</td>\n",
       "      <td>0</td>\n",
       "      <td>0</td>\n",
       "    </tr>\n",
       "    <tr>\n",
       "      <td>2</td>\n",
       "      <td>3276</td>\n",
       "      <td>0.53845</td>\n",
       "      <td>3.1510</td>\n",
       "      <td>0.0</td>\n",
       "      <td>6.282</td>\n",
       "      <td>49997</td>\n",
       "      <td>39436</td>\n",
       "      <td>46438</td>\n",
       "      <td>61872</td>\n",
       "      <td>31288</td>\n",
       "      <td>...</td>\n",
       "      <td>0</td>\n",
       "      <td>1</td>\n",
       "      <td>0</td>\n",
       "      <td>0</td>\n",
       "      <td>0</td>\n",
       "      <td>0</td>\n",
       "      <td>0</td>\n",
       "      <td>1</td>\n",
       "      <td>0</td>\n",
       "      <td>0</td>\n",
       "    </tr>\n",
       "    <tr>\n",
       "      <td>3</td>\n",
       "      <td>3372</td>\n",
       "      <td>0.17005</td>\n",
       "      <td>0.5050</td>\n",
       "      <td>0.0</td>\n",
       "      <td>0.000</td>\n",
       "      <td>61094</td>\n",
       "      <td>30047</td>\n",
       "      <td>57819</td>\n",
       "      <td>54312</td>\n",
       "      <td>17499</td>\n",
       "      <td>...</td>\n",
       "      <td>1</td>\n",
       "      <td>1</td>\n",
       "      <td>0</td>\n",
       "      <td>0</td>\n",
       "      <td>0</td>\n",
       "      <td>1</td>\n",
       "      <td>0</td>\n",
       "      <td>0</td>\n",
       "      <td>0</td>\n",
       "      <td>0</td>\n",
       "    </tr>\n",
       "    <tr>\n",
       "      <td>4</td>\n",
       "      <td>3370</td>\n",
       "      <td>0.77270</td>\n",
       "      <td>1.1010</td>\n",
       "      <td>0.0</td>\n",
       "      <td>0.000</td>\n",
       "      <td>1556</td>\n",
       "      <td>18120</td>\n",
       "      <td>18120</td>\n",
       "      <td>38905</td>\n",
       "      <td>34090</td>\n",
       "      <td>...</td>\n",
       "      <td>0</td>\n",
       "      <td>1</td>\n",
       "      <td>0</td>\n",
       "      <td>0</td>\n",
       "      <td>0</td>\n",
       "      <td>0</td>\n",
       "      <td>0</td>\n",
       "      <td>0</td>\n",
       "      <td>0</td>\n",
       "      <td>0</td>\n",
       "    </tr>\n",
       "  </tbody>\n",
       "</table>\n",
       "<p>5 rows × 99 columns</p>\n",
       "</div>"
      ],
      "text/plain": [
       "   form_field1  form_field2  form_field3  form_field4  form_field5  \\\n",
       "0         3436      0.28505       1.6560          0.0        0.000   \n",
       "1         3456      0.67400       0.2342          0.0        0.000   \n",
       "2         3276      0.53845       3.1510          0.0        6.282   \n",
       "3         3372      0.17005       0.5050          0.0        0.000   \n",
       "4         3370      0.77270       1.1010          0.0        0.000   \n",
       "\n",
       "   form_field6  form_field7  form_field8  form_field9  form_field10  ...  \\\n",
       "0            0         7352        55464        12936         60934  ...   \n",
       "1            0        47011        38779        29846         42800  ...   \n",
       "2        49997        39436        46438        61872         31288  ...   \n",
       "3        61094        30047        57819        54312         17499  ...   \n",
       "4         1556        18120        18120        38905         34090  ...   \n",
       "\n",
       "   form_field40_is_missing  form_field41_is_missing  form_field42_is_missing  \\\n",
       "0                        1                        1                        0   \n",
       "1                        1                        1                        0   \n",
       "2                        0                        1                        0   \n",
       "3                        1                        1                        0   \n",
       "4                        0                        1                        0   \n",
       "\n",
       "   form_field43_is_missing  form_field44_is_missing  form_field45_is_missing  \\\n",
       "0                        0                        0                        0   \n",
       "1                        0                        0                        1   \n",
       "2                        0                        0                        0   \n",
       "3                        0                        0                        1   \n",
       "4                        0                        0                        0   \n",
       "\n",
       "   form_field46_is_missing  form_field48_is_missing  form_field49_is_missing  \\\n",
       "0                        0                        1                        0   \n",
       "1                        0                        0                        0   \n",
       "2                        0                        1                        0   \n",
       "3                        0                        0                        0   \n",
       "4                        0                        0                        0   \n",
       "\n",
       "   form_field50_is_missing  \n",
       "0                        0  \n",
       "1                        0  \n",
       "2                        0  \n",
       "3                        0  \n",
       "4                        0  \n",
       "\n",
       "[5 rows x 99 columns]"
      ]
     },
     "execution_count": 190,
     "metadata": {},
     "output_type": "execute_result"
    }
   ],
   "source": [
    "df.head()"
   ]
  },
  {
   "cell_type": "code",
   "execution_count": 191,
   "metadata": {},
   "outputs": [
    {
     "data": {
      "text/plain": [
       "form_field1                0\n",
       "form_field2                0\n",
       "form_field3                0\n",
       "form_field4                0\n",
       "form_field5                0\n",
       "                          ..\n",
       "form_field45_is_missing    0\n",
       "form_field46_is_missing    0\n",
       "form_field48_is_missing    0\n",
       "form_field49_is_missing    0\n",
       "form_field50_is_missing    0\n",
       "Length: 99, dtype: int64"
      ]
     },
     "execution_count": 191,
     "metadata": {},
     "output_type": "execute_result"
    }
   ],
   "source": [
    "df.isna().sum()"
   ]
  },
  {
   "cell_type": "code",
   "execution_count": 192,
   "metadata": {},
   "outputs": [
    {
     "data": {
      "image/png": "[encoded data removed]",
      "text/plain": [
       "<Figure size 576x432 with 1 Axes>"
      ]
     },
     "metadata": {
      "needs_background": "light"
     },
     "output_type": "display_data"
    }
   ],
   "source": [
    "df.default_status.value_counts().plot.bar(figsize=(8,6))\n",
    "plt.xticks(rotation=0);"
   ]
  },
  {
   "cell_type": "code",
   "execution_count": 193,
   "metadata": {},
   "outputs": [
    {
     "data": {
      "image/png": "[encoded data removed]",
      "text/plain": [
       "<Figure size 432x288 with 1 Axes>"
      ]
     },
     "metadata": {
      "needs_background": "light"
     },
     "output_type": "display_data"
    }
   ],
   "source": [
    "df.form_field14.plot(kind='hist',title='distribution of annual income');"
   ]
  },
  {
   "cell_type": "code",
   "execution_count": 194,
   "metadata": {},
   "outputs": [
    {
     "data": {
      "image/png": "[encoded data removed]",
      "text/plain": [
       "<Figure size 720x432 with 1 Axes>"
      ]
     },
     "metadata": {
      "needs_background": "light"
     },
     "output_type": "display_data"
    }
   ],
   "source": [
    "df.form_field47.value_counts().plot(kind='bar',title='types of product that the applicant applied for',color=['salmon','lightblue'],figsize=(10,6))\n",
    "#plt.legend(['charge','lending'],loc=1)\n",
    "plt.xticks(rotation=0)\n",
    "plt.show();"
   ]
  },
  {
   "cell_type": "code",
   "execution_count": 195,
   "metadata": {},
   "outputs": [
    {
     "data": {
      "image/png": "[encoded data removed]",
      "text/plain": [
       "<Figure size 432x288 with 1 Axes>"
      ]
     },
     "metadata": {
      "needs_background": "light"
     },
     "output_type": "display_data"
    }
   ],
   "source": [
    "sns.countplot(x='form_field47',data=df)\n",
    "plt.legend(('charging','lending'));"
   ]
  },
  {
   "cell_type": "code",
   "execution_count": 196,
   "metadata": {},
   "outputs": [
    {
     "data": {
      "text/html": [
       "<div>\n",
       "<style scoped>\n",
       "    .dataframe tbody tr th:only-of-type {\n",
       "        vertical-align: middle;\n",
       "    }\n",
       "\n",
       "    .dataframe tbody tr th {\n",
       "        vertical-align: top;\n",
       "    }\n",
       "\n",
       "    .dataframe thead th {\n",
       "        text-align: right;\n",
       "    }\n",
       "</style>\n",
       "<table border=\"1\" class=\"dataframe\">\n",
       "  <thead>\n",
       "    <tr style=\"text-align: right;\">\n",
       "      <th></th>\n",
       "      <th>form_field1</th>\n",
       "      <th>form_field2</th>\n",
       "      <th>form_field3</th>\n",
       "      <th>form_field4</th>\n",
       "      <th>form_field5</th>\n",
       "      <th>form_field6</th>\n",
       "      <th>form_field7</th>\n",
       "      <th>form_field8</th>\n",
       "      <th>form_field9</th>\n",
       "      <th>form_field10</th>\n",
       "      <th>...</th>\n",
       "      <th>form_field40_is_missing</th>\n",
       "      <th>form_field41_is_missing</th>\n",
       "      <th>form_field42_is_missing</th>\n",
       "      <th>form_field43_is_missing</th>\n",
       "      <th>form_field44_is_missing</th>\n",
       "      <th>form_field45_is_missing</th>\n",
       "      <th>form_field46_is_missing</th>\n",
       "      <th>form_field48_is_missing</th>\n",
       "      <th>form_field49_is_missing</th>\n",
       "      <th>form_field50_is_missing</th>\n",
       "    </tr>\n",
       "  </thead>\n",
       "  <tbody>\n",
       "    <tr>\n",
       "      <td>form_field1</td>\n",
       "      <td>1.000000</td>\n",
       "      <td>-0.254693</td>\n",
       "      <td>-0.497516</td>\n",
       "      <td>-0.274934</td>\n",
       "      <td>-0.237943</td>\n",
       "      <td>0.019942</td>\n",
       "      <td>0.139815</td>\n",
       "      <td>-0.084477</td>\n",
       "      <td>0.176464</td>\n",
       "      <td>0.211256</td>\n",
       "      <td>...</td>\n",
       "      <td>0.150109</td>\n",
       "      <td>-0.065887</td>\n",
       "      <td>0.023585</td>\n",
       "      <td>0.010213</td>\n",
       "      <td>-0.252046</td>\n",
       "      <td>-0.351568</td>\n",
       "      <td>-0.068471</td>\n",
       "      <td>-0.252769</td>\n",
       "      <td>-0.003228</td>\n",
       "      <td>-0.199397</td>\n",
       "    </tr>\n",
       "    <tr>\n",
       "      <td>form_field2</td>\n",
       "      <td>-0.254693</td>\n",
       "      <td>1.000000</td>\n",
       "      <td>0.122363</td>\n",
       "      <td>0.092037</td>\n",
       "      <td>0.040086</td>\n",
       "      <td>-0.102260</td>\n",
       "      <td>-0.012416</td>\n",
       "      <td>-0.019751</td>\n",
       "      <td>-0.021191</td>\n",
       "      <td>-0.020591</td>\n",
       "      <td>...</td>\n",
       "      <td>-0.078203</td>\n",
       "      <td>-0.065380</td>\n",
       "      <td>-0.007134</td>\n",
       "      <td>-0.003331</td>\n",
       "      <td>-0.012577</td>\n",
       "      <td>0.140887</td>\n",
       "      <td>-0.025716</td>\n",
       "      <td>-0.087735</td>\n",
       "      <td>-0.018888</td>\n",
       "      <td>-0.005985</td>\n",
       "    </tr>\n",
       "    <tr>\n",
       "      <td>form_field3</td>\n",
       "      <td>-0.497516</td>\n",
       "      <td>0.122363</td>\n",
       "      <td>1.000000</td>\n",
       "      <td>0.377243</td>\n",
       "      <td>0.649898</td>\n",
       "      <td>0.069990</td>\n",
       "      <td>-0.087674</td>\n",
       "      <td>0.062620</td>\n",
       "      <td>-0.081045</td>\n",
       "      <td>-0.120947</td>\n",
       "      <td>...</td>\n",
       "      <td>-0.163693</td>\n",
       "      <td>0.055391</td>\n",
       "      <td>-0.072649</td>\n",
       "      <td>-0.047590</td>\n",
       "      <td>0.121132</td>\n",
       "      <td>0.128375</td>\n",
       "      <td>-0.031915</td>\n",
       "      <td>0.216210</td>\n",
       "      <td>-0.036684</td>\n",
       "      <td>0.108036</td>\n",
       "    </tr>\n",
       "    <tr>\n",
       "      <td>form_field4</td>\n",
       "      <td>-0.274934</td>\n",
       "      <td>0.092037</td>\n",
       "      <td>0.377243</td>\n",
       "      <td>1.000000</td>\n",
       "      <td>0.099723</td>\n",
       "      <td>0.040253</td>\n",
       "      <td>-0.046246</td>\n",
       "      <td>0.035196</td>\n",
       "      <td>-0.061027</td>\n",
       "      <td>-0.049919</td>\n",
       "      <td>...</td>\n",
       "      <td>-0.072951</td>\n",
       "      <td>-0.016840</td>\n",
       "      <td>-0.041229</td>\n",
       "      <td>-0.027219</td>\n",
       "      <td>0.052265</td>\n",
       "      <td>0.074493</td>\n",
       "      <td>-0.169350</td>\n",
       "      <td>0.130736</td>\n",
       "      <td>-0.021477</td>\n",
       "      <td>0.078619</td>\n",
       "    </tr>\n",
       "    <tr>\n",
       "      <td>form_field5</td>\n",
       "      <td>-0.237943</td>\n",
       "      <td>0.040086</td>\n",
       "      <td>0.649898</td>\n",
       "      <td>0.099723</td>\n",
       "      <td>1.000000</td>\n",
       "      <td>0.051749</td>\n",
       "      <td>-0.059739</td>\n",
       "      <td>0.039368</td>\n",
       "      <td>-0.068623</td>\n",
       "      <td>-0.080681</td>\n",
       "      <td>...</td>\n",
       "      <td>-0.156538</td>\n",
       "      <td>0.042577</td>\n",
       "      <td>-0.028763</td>\n",
       "      <td>-0.018776</td>\n",
       "      <td>0.076944</td>\n",
       "      <td>0.104153</td>\n",
       "      <td>0.030669</td>\n",
       "      <td>0.119101</td>\n",
       "      <td>-0.014815</td>\n",
       "      <td>0.104040</td>\n",
       "    </tr>\n",
       "    <tr>\n",
       "      <td>...</td>\n",
       "      <td>...</td>\n",
       "      <td>...</td>\n",
       "      <td>...</td>\n",
       "      <td>...</td>\n",
       "      <td>...</td>\n",
       "      <td>...</td>\n",
       "      <td>...</td>\n",
       "      <td>...</td>\n",
       "      <td>...</td>\n",
       "      <td>...</td>\n",
       "      <td>...</td>\n",
       "      <td>...</td>\n",
       "      <td>...</td>\n",
       "      <td>...</td>\n",
       "      <td>...</td>\n",
       "      <td>...</td>\n",
       "      <td>...</td>\n",
       "      <td>...</td>\n",
       "      <td>...</td>\n",
       "      <td>...</td>\n",
       "      <td>...</td>\n",
       "    </tr>\n",
       "    <tr>\n",
       "      <td>form_field45_is_missing</td>\n",
       "      <td>-0.351568</td>\n",
       "      <td>0.140887</td>\n",
       "      <td>0.128375</td>\n",
       "      <td>0.074493</td>\n",
       "      <td>0.104153</td>\n",
       "      <td>0.027179</td>\n",
       "      <td>-0.082139</td>\n",
       "      <td>0.042826</td>\n",
       "      <td>-0.144969</td>\n",
       "      <td>-0.132088</td>\n",
       "      <td>...</td>\n",
       "      <td>-0.102660</td>\n",
       "      <td>0.096682</td>\n",
       "      <td>0.135019</td>\n",
       "      <td>0.089868</td>\n",
       "      <td>0.210690</td>\n",
       "      <td>1.000000</td>\n",
       "      <td>0.259064</td>\n",
       "      <td>0.083611</td>\n",
       "      <td>0.070910</td>\n",
       "      <td>0.217864</td>\n",
       "    </tr>\n",
       "    <tr>\n",
       "      <td>form_field46_is_missing</td>\n",
       "      <td>-0.068471</td>\n",
       "      <td>-0.025716</td>\n",
       "      <td>-0.031915</td>\n",
       "      <td>-0.169350</td>\n",
       "      <td>0.030669</td>\n",
       "      <td>0.080795</td>\n",
       "      <td>-0.090947</td>\n",
       "      <td>0.045169</td>\n",
       "      <td>-0.118562</td>\n",
       "      <td>-0.146853</td>\n",
       "      <td>...</td>\n",
       "      <td>0.029004</td>\n",
       "      <td>0.429400</td>\n",
       "      <td>0.220132</td>\n",
       "      <td>0.155195</td>\n",
       "      <td>0.273156</td>\n",
       "      <td>0.259064</td>\n",
       "      <td>1.000000</td>\n",
       "      <td>0.099206</td>\n",
       "      <td>0.126823</td>\n",
       "      <td>0.231407</td>\n",
       "    </tr>\n",
       "    <tr>\n",
       "      <td>form_field48_is_missing</td>\n",
       "      <td>-0.252769</td>\n",
       "      <td>-0.087735</td>\n",
       "      <td>0.216210</td>\n",
       "      <td>0.130736</td>\n",
       "      <td>0.119101</td>\n",
       "      <td>0.324929</td>\n",
       "      <td>-0.149580</td>\n",
       "      <td>0.214725</td>\n",
       "      <td>-0.233356</td>\n",
       "      <td>-0.215909</td>\n",
       "      <td>...</td>\n",
       "      <td>0.004937</td>\n",
       "      <td>0.117643</td>\n",
       "      <td>0.079136</td>\n",
       "      <td>0.077434</td>\n",
       "      <td>0.366295</td>\n",
       "      <td>0.083611</td>\n",
       "      <td>0.099206</td>\n",
       "      <td>1.000000</td>\n",
       "      <td>0.103553</td>\n",
       "      <td>0.467701</td>\n",
       "    </tr>\n",
       "    <tr>\n",
       "      <td>form_field49_is_missing</td>\n",
       "      <td>-0.003228</td>\n",
       "      <td>-0.018888</td>\n",
       "      <td>-0.036684</td>\n",
       "      <td>-0.021477</td>\n",
       "      <td>-0.014815</td>\n",
       "      <td>0.066237</td>\n",
       "      <td>-0.053520</td>\n",
       "      <td>0.049536</td>\n",
       "      <td>-0.105898</td>\n",
       "      <td>0.035034</td>\n",
       "      <td>...</td>\n",
       "      <td>0.042311</td>\n",
       "      <td>0.054458</td>\n",
       "      <td>0.489777</td>\n",
       "      <td>0.789055</td>\n",
       "      <td>0.244927</td>\n",
       "      <td>0.070910</td>\n",
       "      <td>0.126823</td>\n",
       "      <td>0.103553</td>\n",
       "      <td>1.000000</td>\n",
       "      <td>0.161042</td>\n",
       "    </tr>\n",
       "    <tr>\n",
       "      <td>form_field50_is_missing</td>\n",
       "      <td>-0.199397</td>\n",
       "      <td>-0.005985</td>\n",
       "      <td>0.108036</td>\n",
       "      <td>0.078619</td>\n",
       "      <td>0.104040</td>\n",
       "      <td>0.262328</td>\n",
       "      <td>-0.156979</td>\n",
       "      <td>0.172614</td>\n",
       "      <td>-0.447000</td>\n",
       "      <td>-0.229457</td>\n",
       "      <td>...</td>\n",
       "      <td>0.005059</td>\n",
       "      <td>0.180478</td>\n",
       "      <td>0.216745</td>\n",
       "      <td>0.204094</td>\n",
       "      <td>0.391323</td>\n",
       "      <td>0.217864</td>\n",
       "      <td>0.231407</td>\n",
       "      <td>0.467701</td>\n",
       "      <td>0.161042</td>\n",
       "      <td>1.000000</td>\n",
       "    </tr>\n",
       "  </tbody>\n",
       "</table>\n",
       "<p>99 rows × 99 columns</p>\n",
       "</div>"
      ],
      "text/plain": [
       "                         form_field1  form_field2  form_field3  form_field4  \\\n",
       "form_field1                 1.000000    -0.254693    -0.497516    -0.274934   \n",
       "form_field2                -0.254693     1.000000     0.122363     0.092037   \n",
       "form_field3                -0.497516     0.122363     1.000000     0.377243   \n",
       "form_field4                -0.274934     0.092037     0.377243     1.000000   \n",
       "form_field5                -0.237943     0.040086     0.649898     0.099723   \n",
       "...                              ...          ...          ...          ...   \n",
       "form_field45_is_missing    -0.351568     0.140887     0.128375     0.074493   \n",
       "form_field46_is_missing    -0.068471    -0.025716    -0.031915    -0.169350   \n",
       "form_field48_is_missing    -0.252769    -0.087735     0.216210     0.130736   \n",
       "form_field49_is_missing    -0.003228    -0.018888    -0.036684    -0.021477   \n",
       "form_field50_is_missing    -0.199397    -0.005985     0.108036     0.078619   \n",
       "\n",
       "                         form_field5  form_field6  form_field7  form_field8  \\\n",
       "form_field1                -0.237943     0.019942     0.139815    -0.084477   \n",
       "form_field2                 0.040086    -0.102260    -0.012416    -0.019751   \n",
       "form_field3                 0.649898     0.069990    -0.087674     0.062620   \n",
       "form_field4                 0.099723     0.040253    -0.046246     0.035196   \n",
       "form_field5                 1.000000     0.051749    -0.059739     0.039368   \n",
       "...                              ...          ...          ...          ...   \n",
       "form_field45_is_missing     0.104153     0.027179    -0.082139     0.042826   \n",
       "form_field46_is_missing     0.030669     0.080795    -0.090947     0.045169   \n",
       "form_field48_is_missing     0.119101     0.324929    -0.149580     0.214725   \n",
       "form_field49_is_missing    -0.014815     0.066237    -0.053520     0.049536   \n",
       "form_field50_is_missing     0.104040     0.262328    -0.156979     0.172614   \n",
       "\n",
       "                         form_field9  form_field10  ...  \\\n",
       "form_field1                 0.176464      0.211256  ...   \n",
       "form_field2                -0.021191     -0.020591  ...   \n",
       "form_field3                -0.081045     -0.120947  ...   \n",
       "form_field4                -0.061027     -0.049919  ...   \n",
       "form_field5                -0.068623     -0.080681  ...   \n",
       "...                              ...           ...  ...   \n",
       "form_field45_is_missing    -0.144969     -0.132088  ...   \n",
       "form_field46_is_missing    -0.118562     -0.146853  ...   \n",
       "form_field48_is_missing    -0.233356     -0.215909  ...   \n",
       "form_field49_is_missing    -0.105898      0.035034  ...   \n",
       "form_field50_is_missing    -0.447000     -0.229457  ...   \n",
       "\n",
       "                         form_field40_is_missing  form_field41_is_missing  \\\n",
       "form_field1                             0.150109                -0.065887   \n",
       "form_field2                            -0.078203                -0.065380   \n",
       "form_field3                            -0.163693                 0.055391   \n",
       "form_field4                            -0.072951                -0.016840   \n",
       "form_field5                            -0.156538                 0.042577   \n",
       "...                                          ...                      ...   \n",
       "form_field45_is_missing                -0.102660                 0.096682   \n",
       "form_field46_is_missing                 0.029004                 0.429400   \n",
       "form_field48_is_missing                 0.004937                 0.117643   \n",
       "form_field49_is_missing                 0.042311                 0.054458   \n",
       "form_field50_is_missing                 0.005059                 0.180478   \n",
       "\n",
       "                         form_field42_is_missing  form_field43_is_missing  \\\n",
       "form_field1                             0.023585                 0.010213   \n",
       "form_field2                            -0.007134                -0.003331   \n",
       "form_field3                            -0.072649                -0.047590   \n",
       "form_field4                            -0.041229                -0.027219   \n",
       "form_field5                            -0.028763                -0.018776   \n",
       "...                                          ...                      ...   \n",
       "form_field45_is_missing                 0.135019                 0.089868   \n",
       "form_field46_is_missing                 0.220132                 0.155195   \n",
       "form_field48_is_missing                 0.079136                 0.077434   \n",
       "form_field49_is_missing                 0.489777                 0.789055   \n",
       "form_field50_is_missing                 0.216745                 0.204094   \n",
       "\n",
       "                         form_field44_is_missing  form_field45_is_missing  \\\n",
       "form_field1                            -0.252046                -0.351568   \n",
       "form_field2                            -0.012577                 0.140887   \n",
       "form_field3                             0.121132                 0.128375   \n",
       "form_field4                             0.052265                 0.074493   \n",
       "form_field5                             0.076944                 0.104153   \n",
       "...                                          ...                      ...   \n",
       "form_field45_is_missing                 0.210690                 1.000000   \n",
       "form_field46_is_missing                 0.273156                 0.259064   \n",
       "form_field48_is_missing                 0.366295                 0.083611   \n",
       "form_field49_is_missing                 0.244927                 0.070910   \n",
       "form_field50_is_missing                 0.391323                 0.217864   \n",
       "\n",
       "                         form_field46_is_missing  form_field48_is_missing  \\\n",
       "form_field1                            -0.068471                -0.252769   \n",
       "form_field2                            -0.025716                -0.087735   \n",
       "form_field3                            -0.031915                 0.216210   \n",
       "form_field4                            -0.169350                 0.130736   \n",
       "form_field5                             0.030669                 0.119101   \n",
       "...                                          ...                      ...   \n",
       "form_field45_is_missing                 0.259064                 0.083611   \n",
       "form_field46_is_missing                 1.000000                 0.099206   \n",
       "form_field48_is_missing                 0.099206                 1.000000   \n",
       "form_field49_is_missing                 0.126823                 0.103553   \n",
       "form_field50_is_missing                 0.231407                 0.467701   \n",
       "\n",
       "                         form_field49_is_missing  form_field50_is_missing  \n",
       "form_field1                            -0.003228                -0.199397  \n",
       "form_field2                            -0.018888                -0.005985  \n",
       "form_field3                            -0.036684                 0.108036  \n",
       "form_field4                            -0.021477                 0.078619  \n",
       "form_field5                            -0.014815                 0.104040  \n",
       "...                                          ...                      ...  \n",
       "form_field45_is_missing                 0.070910                 0.217864  \n",
       "form_field46_is_missing                 0.126823                 0.231407  \n",
       "form_field48_is_missing                 0.103553                 0.467701  \n",
       "form_field49_is_missing                 1.000000                 0.161042  \n",
       "form_field50_is_missing                 0.161042                 1.000000  \n",
       "\n",
       "[99 rows x 99 columns]"
      ]
     },
     "execution_count": 196,
     "metadata": {},
     "output_type": "execute_result"
    }
   ],
   "source": [
    "df_corr=df.corr()\n",
    "df_corr"
   ]
  },
  {
   "cell_type": "code",
   "execution_count": 197,
   "metadata": {},
   "outputs": [],
   "source": [
    "np.random.seed(42)\n",
    "df=df.sample(frac=1)\n",
    "x=df.drop('default_status',axis=1)\n",
    "y=df.default_status\n",
    "train_split=round(0.8*len(df))\n",
    "x_train,y_train=df.drop('default_status',axis=1)[:train_split],df.default_status[:train_split]\n",
    "x_valid,y_valid=df.drop('default_status',axis=1)[train_split:],df.default_status[train_split:]"
   ]
  },
  {
   "cell_type": "code",
   "execution_count": 198,
   "metadata": {},
   "outputs": [],
   "source": [
    "np.random.seed(42)\n",
    "from sklearn.preprocessing import StandardScaler\n",
    "sc=StandardScaler()\n",
    "x_train=sc.fit_transform(x_train)\n",
    "x_valid=sc.transform(x_valid)"
   ]
  },
  {
   "cell_type": "code",
   "execution_count": 199,
   "metadata": {},
   "outputs": [
    {
     "data": {
      "text/plain": [
       "LogisticRegression(max_iter=1000)"
      ]
     },
     "execution_count": 199,
     "metadata": {},
     "output_type": "execute_result"
    }
   ],
   "source": [
    "np.random.seed(42)\n",
    "from sklearn.linear_model import LogisticRegression\n",
    "\n",
    "clf1=LogisticRegression(max_iter=1000)\n",
    "clf1.fit(x_train,y_train)"
   ]
  },
  {
   "cell_type": "code",
   "execution_count": 200,
   "metadata": {},
   "outputs": [
    {
     "name": "stdout",
     "output_type": "stream",
     "text": [
      "              precision    recall  f1-score   support\n",
      "\n",
      "           0       0.83      0.92      0.88      8513\n",
      "           1       0.64      0.42      0.50      2687\n",
      "\n",
      "    accuracy                           0.80     11200\n",
      "   macro avg       0.73      0.67      0.69     11200\n",
      "weighted avg       0.79      0.80      0.79     11200\n",
      "\n"
     ]
    }
   ],
   "source": [
    "np.random.seed(42)\n",
    "y_preds=clf1.predict(x_valid)\n",
    "print(classification_report(y_valid,y_preds))"
   ]
  },
  {
   "cell_type": "code",
   "execution_count": 201,
   "metadata": {},
   "outputs": [
    {
     "data": {
      "text/plain": [
       "(11200, 11200)"
      ]
     },
     "execution_count": 201,
     "metadata": {},
     "output_type": "execute_result"
    }
   ],
   "source": [
    "len(y_preds),len(y_valid)"
   ]
  },
  {
   "cell_type": "code",
   "execution_count": 202,
   "metadata": {},
   "outputs": [
    {
     "data": {
      "text/plain": [
       "array([[7871,  642],\n",
       "       [1570, 1117]], dtype=int64)"
      ]
     },
     "execution_count": 202,
     "metadata": {},
     "output_type": "execute_result"
    }
   ],
   "source": [
    "confusion_matrix(y_valid,y_preds)"
   ]
  },
  {
   "cell_type": "code",
   "execution_count": 203,
   "metadata": {},
   "outputs": [
    {
     "data": {
      "text/html": [
       "<div>\n",
       "<style scoped>\n",
       "    .dataframe tbody tr th:only-of-type {\n",
       "        vertical-align: middle;\n",
       "    }\n",
       "\n",
       "    .dataframe tbody tr th {\n",
       "        vertical-align: top;\n",
       "    }\n",
       "\n",
       "    .dataframe thead th {\n",
       "        text-align: right;\n",
       "    }\n",
       "</style>\n",
       "<table border=\"1\" class=\"dataframe\">\n",
       "  <thead>\n",
       "    <tr style=\"text-align: right;\">\n",
       "      <th>actual_label</th>\n",
       "      <th>0</th>\n",
       "      <th>1</th>\n",
       "    </tr>\n",
       "    <tr>\n",
       "      <th>predicted_label</th>\n",
       "      <th></th>\n",
       "      <th></th>\n",
       "    </tr>\n",
       "  </thead>\n",
       "  <tbody>\n",
       "    <tr>\n",
       "      <td>0</td>\n",
       "      <td>7871</td>\n",
       "      <td>642</td>\n",
       "    </tr>\n",
       "    <tr>\n",
       "      <td>1</td>\n",
       "      <td>1570</td>\n",
       "      <td>1117</td>\n",
       "    </tr>\n",
       "  </tbody>\n",
       "</table>\n",
       "</div>"
      ],
      "text/plain": [
       "actual_label        0     1\n",
       "predicted_label            \n",
       "0                7871   642\n",
       "1                1570  1117"
      ]
     },
     "execution_count": 203,
     "metadata": {},
     "output_type": "execute_result"
    }
   ],
   "source": [
    "conf_mat=pd.crosstab(y_valid,y_preds,rownames=['predicted_label'],colnames=['actual_label'])\n",
    "conf_mat"
   ]
  },
  {
   "cell_type": "code",
   "execution_count": 204,
   "metadata": {},
   "outputs": [
    {
     "data": {
      "text/plain": [
       "(2.0, 0.0)"
      ]
     },
     "execution_count": 204,
     "metadata": {},
     "output_type": "execute_result"
    },
    {
     "data": {
      "image/png": "[encoded data removed]",
      "text/plain": [
       "<Figure size 720x360 with 1 Axes>"
      ]
     },
     "metadata": {
      "needs_background": "light"
     },
     "output_type": "display_data"
    }
   ],
   "source": [
    "fig,ax=plt.subplots(figsize=(10,5))\n",
    "ax=sns.heatmap(conf_mat,cbar=False,annot=True)\n",
    "bottom,top=ax.get_ylim()\n",
    "ax.set_ylim(bottom +0.5,top -0.5)"
   ]
  },
  {
   "cell_type": "code",
   "execution_count": 247,
   "metadata": {},
   "outputs": [],
   "source": [
    "np.random.seed(42)\n",
    "y_preds_prob=clf1.predict_proba(x_train)\n",
    "y_preds_prob_pos=y_preds_prob[:,1]"
   ]
  },
  {
   "cell_type": "code",
   "execution_count": 248,
   "metadata": {},
   "outputs": [
    {
     "data": {
      "text/plain": [
       "0.8329664047683089"
      ]
     },
     "execution_count": 248,
     "metadata": {},
     "output_type": "execute_result"
    }
   ],
   "source": [
    "np.random.seed(42)\n",
    "from sklearn.metrics import roc_auc_score\n",
    "roc_auc_score(y_train,y_preds_prob_pos)"
   ]
  },
  {
   "cell_type": "code",
   "execution_count": 133,
   "metadata": {},
   "outputs": [
    {
     "data": {
      "text/plain": [
       "RandomForestClassifier()"
      ]
     },
     "execution_count": 133,
     "metadata": {},
     "output_type": "execute_result"
    }
   ],
   "source": [
    "np.random.seed(42)\n",
    "from sklearn.ensemble import RandomForestClassifier\n",
    "clf2=RandomForestClassifier()\n",
    "clf2.fit(x_train,y_train)\n"
   ]
  },
  {
   "cell_type": "code",
   "execution_count": 134,
   "metadata": {},
   "outputs": [
    {
     "name": "stdout",
     "output_type": "stream",
     "text": [
      "              precision    recall  f1-score   support\n",
      "\n",
      "           0       0.83      0.93      0.88      8513\n",
      "           1       0.66      0.40      0.50      2687\n",
      "\n",
      "    accuracy                           0.81     11200\n",
      "   macro avg       0.75      0.67      0.69     11200\n",
      "weighted avg       0.79      0.81      0.79     11200\n",
      "\n"
     ]
    }
   ],
   "source": [
    "np.random.seed(42)\n",
    "from sklearn.metrics import classification_report,confusion_matrix\n",
    "y_preds_rf=clf2.predict(x_valid)\n",
    "print(classification_report(y_valid,y_preds_rf))"
   ]
  },
  {
   "cell_type": "code",
   "execution_count": 135,
   "metadata": {},
   "outputs": [
    {
     "data": {
      "text/plain": [
       "0.8238656515652782"
      ]
     },
     "execution_count": 135,
     "metadata": {},
     "output_type": "execute_result"
    }
   ],
   "source": [
    "np.random.seed(42)\n",
    "from sklearn.metrics import roc_auc_score\n",
    "y_preds_prob=clf2.predict_proba(x_valid)\n",
    "y_preds_prob_pos=y_preds_prob[:,1]\n",
    "roc_auc_score(y_valid,y_preds_prob_pos)"
   ]
  },
  {
   "cell_type": "code",
   "execution_count": 136,
   "metadata": {},
   "outputs": [
    {
     "data": {
      "text/plain": [
       "DecisionTreeClassifier()"
      ]
     },
     "execution_count": 136,
     "metadata": {},
     "output_type": "execute_result"
    }
   ],
   "source": [
    "np.random.seed(42)\n",
    "from sklearn.tree import DecisionTreeClassifier\n",
    "dtc=DecisionTreeClassifier()\n",
    "dtc.fit(x_train,y_train)\n"
   ]
  },
  {
   "cell_type": "code",
   "execution_count": 137,
   "metadata": {},
   "outputs": [
    {
     "name": "stdout",
     "output_type": "stream",
     "text": [
      "              precision    recall  f1-score   support\n",
      "\n",
      "           0       0.82      0.81      0.82      8513\n",
      "           1       0.43      0.45      0.44      2687\n",
      "\n",
      "    accuracy                           0.73     11200\n",
      "   macro avg       0.63      0.63      0.63     11200\n",
      "weighted avg       0.73      0.73      0.73     11200\n",
      "\n"
     ]
    }
   ],
   "source": [
    "np.random.seed(42)\n",
    "from sklearn.metrics import classification_report,confusion_matrix\n",
    "y_preds_dtc=dtc.predict(x_valid)\n",
    "print(classification_report(y_valid,y_preds_dtc))"
   ]
  },
  {
   "cell_type": "code",
   "execution_count": 138,
   "metadata": {},
   "outputs": [
    {
     "data": {
      "text/plain": [
       "0.6302829346880803"
      ]
     },
     "execution_count": 138,
     "metadata": {},
     "output_type": "execute_result"
    }
   ],
   "source": [
    "np.random.seed(42)\n",
    "from sklearn.metrics import roc_auc_score\n",
    "y_preds_prob=dtc.predict_proba(x_valid)\n",
    "y_preds_prob_pos=y_preds_prob[:,1]\n",
    "roc_auc_score(y_valid,y_preds_prob_pos)"
   ]
  },
  {
   "cell_type": "code",
   "execution_count": 88,
   "metadata": {},
   "outputs": [],
   "source": [
    "# creating hyperparameter tuning for logistic regression\n",
    "log_reg_grid={'C':[1.0,1.5,2.0,2.5],\n",
    "             'solver':['liblinear'],\n",
    "             'penalty':['l1','l2']}\n",
    "\n",
    "#creating hyperparameter tuning for random forest classifier\n",
    "rf_grid={'n_estimators':[100,200,300,1000],\n",
    "         'max_depth':[None,3,5,10],\n",
    "         'min_samples_split':[3,5,10],\n",
    "         'min_samples_leaf':[4,10,8],\n",
    "         'max_features':['auto','sqrt',20,40],\n",
    "        'bootstrap':[True]}\n"
   ]
  },
  {
   "cell_type": "code",
   "execution_count": 89,
   "metadata": {},
   "outputs": [
    {
     "name": "stderr",
     "output_type": "stream",
     "text": [
      "C:\\Users\\proo\\Anaconda3\\lib\\site-packages\\sklearn\\model_selection\\_search.py:282: UserWarning: The total space of parameters 8 is smaller than n_iter=20. Running 8 iterations. For exhaustive searches, use GridSearchCV.\n",
      "  % (grid_size, self.n_iter, grid_size), UserWarning)\n",
      "[Parallel(n_jobs=1)]: Using backend SequentialBackend with 1 concurrent workers.\n"
     ]
    },
    {
     "name": "stdout",
     "output_type": "stream",
     "text": [
      "Fitting 5 folds for each of 8 candidates, totalling 40 fits\n"
     ]
    },
    {
     "name": "stderr",
     "output_type": "stream",
     "text": [
      "[Parallel(n_jobs=1)]: Done  40 out of  40 | elapsed:   45.5s finished\n"
     ]
    },
    {
     "data": {
      "text/plain": [
       "RandomizedSearchCV(cv=5,\n",
       "                   estimator=LogisticRegression(max_iter=1000,\n",
       "                                                multi_class='ovr'),\n",
       "                   n_iter=20,\n",
       "                   param_distributions={'C': [1.0, 1.5, 2.0, 2.5],\n",
       "                                        'penalty': ['l1', 'l2'],\n",
       "                                        'solver': ['liblinear']},\n",
       "                   verbose=True)"
      ]
     },
     "execution_count": 89,
     "metadata": {},
     "output_type": "execute_result"
    }
   ],
   "source": [
    "np.random.seed(42)\n",
    "rs_log_reg=RandomizedSearchCV(LogisticRegression(max_iter=1000,multi_class='ovr'),param_distributions=log_reg_grid,cv=5,n_iter=20,verbose=True)\n",
    "rs_log_reg.fit(x_train[:10000],y_train[:10000])"
   ]
  },
  {
   "cell_type": "code",
   "execution_count": 90,
   "metadata": {},
   "outputs": [
    {
     "data": {
      "text/plain": [
       "{'solver': 'liblinear', 'penalty': 'l1', 'C': 1.0}"
      ]
     },
     "execution_count": 90,
     "metadata": {},
     "output_type": "execute_result"
    }
   ],
   "source": [
    "rs_log_reg.best_params_"
   ]
  },
  {
   "cell_type": "code",
   "execution_count": 93,
   "metadata": {},
   "outputs": [
    {
     "data": {
      "text/plain": [
       "0.8255253429268811"
      ]
     },
     "execution_count": 93,
     "metadata": {},
     "output_type": "execute_result"
    }
   ],
   "source": [
    "clf=LogisticRegression(C=1.0,solver='liblinear',penalty='l1',max_iter=1000)\n",
    "clf.fit(x_train,y_train)\n",
    "#cross validated accuracy\n",
    "cv_auc=np.mean(cross_val_score(clf,x_valid,y_valid,cv=5,scoring='roc_auc'))\n",
    "cv_auc"
   ]
  },
  {
   "cell_type": "code",
   "execution_count": 94,
   "metadata": {},
   "outputs": [],
   "source": [
    "# y_preds_prob_rs_log_reg=rs_log_reg.predict_proba(x_valid)[:,1]\n",
    "# roc_auc_score(y_valid,y_preds_prob_rs_log_reg)"
   ]
  },
  {
   "cell_type": "code",
   "execution_count": 95,
   "metadata": {},
   "outputs": [
    {
     "name": "stdout",
     "output_type": "stream",
     "text": [
      "Fitting 5 folds for each of 20 candidates, totalling 100 fits\n"
     ]
    },
    {
     "name": "stderr",
     "output_type": "stream",
     "text": [
      "[Parallel(n_jobs=1)]: Using backend SequentialBackend with 1 concurrent workers.\n",
      "[Parallel(n_jobs=1)]: Done 100 out of 100 | elapsed: 24.2min finished\n"
     ]
    },
    {
     "data": {
      "text/plain": [
       "RandomizedSearchCV(cv=5, estimator=RandomForestClassifier(), n_iter=20,\n",
       "                   param_distributions={'bootstrap': [True],\n",
       "                                        'max_depth': [None, 3, 5, 10],\n",
       "                                        'max_features': ['auto', 'sqrt', 20,\n",
       "                                                         40],\n",
       "                                        'min_samples_leaf': [4, 10, 8],\n",
       "                                        'min_samples_split': [3, 5, 10],\n",
       "                                        'n_estimators': [100, 200, 300, 1000]},\n",
       "                   verbose=True)"
      ]
     },
     "execution_count": 95,
     "metadata": {},
     "output_type": "execute_result"
    }
   ],
   "source": [
    "np.random.seed(42)\n",
    "rs_rf=RandomizedSearchCV(RandomForestClassifier(),param_distributions=rf_grid,cv=5,n_iter=20,verbose=True)\n",
    "rs_rf.fit(x_train[:10000],y_train[:10000])"
   ]
  },
  {
   "cell_type": "code",
   "execution_count": 96,
   "metadata": {},
   "outputs": [
    {
     "data": {
      "text/plain": [
       "{'n_estimators': 300,\n",
       " 'min_samples_split': 5,\n",
       " 'min_samples_leaf': 8,\n",
       " 'max_features': 20,\n",
       " 'max_depth': 10,\n",
       " 'bootstrap': True}"
      ]
     },
     "execution_count": 96,
     "metadata": {},
     "output_type": "execute_result"
    }
   ],
   "source": [
    "rs_rf.best_params_"
   ]
  },
  {
   "cell_type": "code",
   "execution_count": 97,
   "metadata": {},
   "outputs": [
    {
     "data": {
      "text/plain": [
       "RandomForestClassifier(max_depth=10, max_features=20, min_samples_leaf=8,\n",
       "                       min_samples_split=5, n_estimators=300)"
      ]
     },
     "execution_count": 97,
     "metadata": {},
     "output_type": "execute_result"
    }
   ],
   "source": [
    "clf2=RandomForestClassifier(n_estimators=300,min_samples_split=5,min_samples_leaf=8,max_features=20,max_depth=10,bootstrap=True)\n",
    "clf2.fit(x_train,y_train)"
   ]
  },
  {
   "cell_type": "code",
   "execution_count": 98,
   "metadata": {},
   "outputs": [
    {
     "data": {
      "text/plain": [
       "0.8232627232814975"
      ]
     },
     "execution_count": 98,
     "metadata": {},
     "output_type": "execute_result"
    }
   ],
   "source": [
    "cv_auc_rf=np.mean(cross_val_score(clf2,x_valid,y_valid,cv=5,scoring='roc_auc'))\n",
    "cv_auc_rf"
   ]
  },
  {
   "cell_type": "code",
   "execution_count": 214,
   "metadata": {},
   "outputs": [
    {
     "data": {
      "text/plain": [
       "array([ 5,  7, 10])"
      ]
     },
     "execution_count": 214,
     "metadata": {},
     "output_type": "execute_result"
    }
   ],
   "source": [
    "x=np.array([[1,2,3],[4,5,7]])\n",
    "x.sum(axis=0)\n",
    "\n"
   ]
  },
  {
   "cell_type": "code",
   "execution_count": 219,
   "metadata": {},
   "outputs": [
    {
     "data": {
      "text/plain": [
       "XGBClassifier(base_score=0.5, booster='gbtree', colsample_bylevel=1,\n",
       "              colsample_bynode=1, colsample_bytree=1, gamma=0, gpu_id=-1,\n",
       "              importance_type='gain', interaction_constraints='',\n",
       "              learning_rate=0.300000012, max_delta_step=0, max_depth=6,\n",
       "              min_child_weight=1, missing=nan, monotone_constraints='()',\n",
       "              n_estimators=100, n_jobs=0, num_parallel_tree=1, random_state=0,\n",
       "              reg_alpha=0, reg_lambda=1, scale_pos_weight=1, subsample=1,\n",
       "              tree_method='exact', validate_parameters=1, verbosity=None)"
      ]
     },
     "execution_count": 219,
     "metadata": {},
     "output_type": "execute_result"
    }
   ],
   "source": [
    "model=XGBClassifier()\n",
    "model.fit(x_train,y_train)"
   ]
  },
  {
   "cell_type": "code",
   "execution_count": 222,
   "metadata": {},
   "outputs": [
    {
     "data": {
      "text/plain": [
       "array([[7.5450063e-02, 9.2454994e-01],\n",
       "       [5.5294418e-01, 4.4705585e-01],\n",
       "       [9.9928916e-01, 7.1082107e-04],\n",
       "       [9.5723486e-01, 4.2765159e-02],\n",
       "       [9.4753748e-01, 5.2462537e-02],\n",
       "       [9.5769370e-01, 4.2306304e-02],\n",
       "       [9.3097389e-01, 6.9026127e-02],\n",
       "       [8.6221105e-01, 1.3778894e-01],\n",
       "       [7.0448458e-01, 2.9551545e-01],\n",
       "       [9.2512441e-01, 7.4875601e-02]], dtype=float32)"
      ]
     },
     "execution_count": 222,
     "metadata": {},
     "output_type": "execute_result"
    }
   ],
   "source": [
    "y_pred = model.predict_proba(x_valid)\n",
    "y_pred[:10]"
   ]
  },
  {
   "cell_type": "code",
   "execution_count": 225,
   "metadata": {},
   "outputs": [
    {
     "name": "stdout",
     "output_type": "stream",
     "text": [
      "AUC: 82.22%\n"
     ]
    }
   ],
   "source": [
    "# evaluate predictions\n",
    "roc =roc_auc_score(y_valid, y_pred[:, 1])\n",
    "print(\"AUC: %.2f%%\" % (roc * 100.0))"
   ]
  },
  {
   "cell_type": "code",
   "execution_count": 226,
   "metadata": {},
   "outputs": [],
   "source": [
    "# hyperparameter tuning with XGBoost\n",
    "\n",
    "# creating a KFold object \n",
    "folds = 5\n",
    "\n",
    "# specify range of hyperparameters\n",
    "param_grid = {'learning_rate': [0.2, 0.6], \n",
    "             'subsample': [0.3, 0.6, 0.9]}          \n",
    "\n",
    "\n",
    "# specify model\n",
    "xgb_model = XGBClassifier(max_depth=2, n_estimators=200)\n",
    "\n",
    "# set up GridSearchCV()\n",
    "model_cv = GridSearchCV(estimator = xgb_model, \n",
    "                        param_grid = param_grid, \n",
    "                        scoring= 'roc_auc', \n",
    "                        cv = folds, \n",
    "                        verbose = 1,\n",
    "                        return_train_score=True)      \n"
   ]
  },
  {
   "cell_type": "code",
   "execution_count": 229,
   "metadata": {},
   "outputs": [
    {
     "name": "stdout",
     "output_type": "stream",
     "text": [
      "Fitting 5 folds for each of 6 candidates, totalling 30 fits\n"
     ]
    },
    {
     "name": "stderr",
     "output_type": "stream",
     "text": [
      "[Parallel(n_jobs=1)]: Using backend SequentialBackend with 1 concurrent workers.\n",
      "[Parallel(n_jobs=1)]: Done  30 out of  30 | elapsed:  1.7min finished\n"
     ]
    },
    {
     "data": {
      "text/plain": [
       "GridSearchCV(cv=5,\n",
       "             estimator=XGBClassifier(base_score=None, booster=None,\n",
       "                                     colsample_bylevel=None,\n",
       "                                     colsample_bynode=None,\n",
       "                                     colsample_bytree=None, gamma=None,\n",
       "                                     gpu_id=None, importance_type='gain',\n",
       "                                     interaction_constraints=None,\n",
       "                                     learning_rate=None, max_delta_step=None,\n",
       "                                     max_depth=2, min_child_weight=None,\n",
       "                                     missing=nan, monotone_constraints=None,\n",
       "                                     n_estimators=200, n_jobs=None,\n",
       "                                     num_parallel_tree=None, random_state=None,\n",
       "                                     reg_alpha=None, reg_lambda=None,\n",
       "                                     scale_pos_weight=None, subsample=None,\n",
       "                                     tree_method=None, validate_parameters=None,\n",
       "                                     verbosity=None),\n",
       "             param_grid={'learning_rate': [0.2, 0.6],\n",
       "                         'subsample': [0.3, 0.6, 0.9]},\n",
       "             return_train_score=True, scoring='roc_auc', verbose=1)"
      ]
     },
     "execution_count": 229,
     "metadata": {},
     "output_type": "execute_result"
    }
   ],
   "source": [
    "# fit the model\n",
    "model_cv.fit(x_train[:10000], y_train[:10000])  "
   ]
  },
  {
   "cell_type": "code",
   "execution_count": 230,
   "metadata": {},
   "outputs": [],
   "source": [
    "cv_results=pd.DataFrame(model_cv.cv_results_)"
   ]
  },
  {
   "cell_type": "code",
   "execution_count": 231,
   "metadata": {},
   "outputs": [
    {
     "data": {
      "text/html": [
       "<div>\n",
       "<style scoped>\n",
       "    .dataframe tbody tr th:only-of-type {\n",
       "        vertical-align: middle;\n",
       "    }\n",
       "\n",
       "    .dataframe tbody tr th {\n",
       "        vertical-align: top;\n",
       "    }\n",
       "\n",
       "    .dataframe thead th {\n",
       "        text-align: right;\n",
       "    }\n",
       "</style>\n",
       "<table border=\"1\" class=\"dataframe\">\n",
       "  <thead>\n",
       "    <tr style=\"text-align: right;\">\n",
       "      <th></th>\n",
       "      <th>mean_fit_time</th>\n",
       "      <th>std_fit_time</th>\n",
       "      <th>mean_score_time</th>\n",
       "      <th>std_score_time</th>\n",
       "      <th>param_learning_rate</th>\n",
       "      <th>param_subsample</th>\n",
       "      <th>params</th>\n",
       "      <th>split0_test_score</th>\n",
       "      <th>split1_test_score</th>\n",
       "      <th>split2_test_score</th>\n",
       "      <th>...</th>\n",
       "      <th>mean_test_score</th>\n",
       "      <th>std_test_score</th>\n",
       "      <th>rank_test_score</th>\n",
       "      <th>split0_train_score</th>\n",
       "      <th>split1_train_score</th>\n",
       "      <th>split2_train_score</th>\n",
       "      <th>split3_train_score</th>\n",
       "      <th>split4_train_score</th>\n",
       "      <th>mean_train_score</th>\n",
       "      <th>std_train_score</th>\n",
       "    </tr>\n",
       "  </thead>\n",
       "  <tbody>\n",
       "    <tr>\n",
       "      <td>0</td>\n",
       "      <td>3.037016</td>\n",
       "      <td>0.228031</td>\n",
       "      <td>0.029662</td>\n",
       "      <td>0.003762</td>\n",
       "      <td>0.2</td>\n",
       "      <td>0.3</td>\n",
       "      <td>{'learning_rate': 0.2, 'subsample': 0.3}</td>\n",
       "      <td>0.804455</td>\n",
       "      <td>0.822099</td>\n",
       "      <td>0.806480</td>\n",
       "      <td>...</td>\n",
       "      <td>0.808767</td>\n",
       "      <td>0.007325</td>\n",
       "      <td>3</td>\n",
       "      <td>0.880231</td>\n",
       "      <td>0.879410</td>\n",
       "      <td>0.881012</td>\n",
       "      <td>0.881906</td>\n",
       "      <td>0.879011</td>\n",
       "      <td>0.880314</td>\n",
       "      <td>0.001053</td>\n",
       "    </tr>\n",
       "    <tr>\n",
       "      <td>1</td>\n",
       "      <td>3.612552</td>\n",
       "      <td>0.142673</td>\n",
       "      <td>0.026946</td>\n",
       "      <td>0.003609</td>\n",
       "      <td>0.2</td>\n",
       "      <td>0.6</td>\n",
       "      <td>{'learning_rate': 0.2, 'subsample': 0.6}</td>\n",
       "      <td>0.808237</td>\n",
       "      <td>0.832234</td>\n",
       "      <td>0.810714</td>\n",
       "      <td>...</td>\n",
       "      <td>0.815666</td>\n",
       "      <td>0.008920</td>\n",
       "      <td>2</td>\n",
       "      <td>0.889434</td>\n",
       "      <td>0.888275</td>\n",
       "      <td>0.891161</td>\n",
       "      <td>0.890239</td>\n",
       "      <td>0.888770</td>\n",
       "      <td>0.889576</td>\n",
       "      <td>0.001031</td>\n",
       "    </tr>\n",
       "    <tr>\n",
       "      <td>2</td>\n",
       "      <td>3.405383</td>\n",
       "      <td>0.179424</td>\n",
       "      <td>0.027044</td>\n",
       "      <td>0.001766</td>\n",
       "      <td>0.2</td>\n",
       "      <td>0.9</td>\n",
       "      <td>{'learning_rate': 0.2, 'subsample': 0.9}</td>\n",
       "      <td>0.810460</td>\n",
       "      <td>0.833012</td>\n",
       "      <td>0.816183</td>\n",
       "      <td>...</td>\n",
       "      <td>0.819014</td>\n",
       "      <td>0.008506</td>\n",
       "      <td>1</td>\n",
       "      <td>0.889058</td>\n",
       "      <td>0.888644</td>\n",
       "      <td>0.891217</td>\n",
       "      <td>0.889588</td>\n",
       "      <td>0.891240</td>\n",
       "      <td>0.889949</td>\n",
       "      <td>0.001086</td>\n",
       "    </tr>\n",
       "    <tr>\n",
       "      <td>3</td>\n",
       "      <td>3.026884</td>\n",
       "      <td>0.159223</td>\n",
       "      <td>0.025365</td>\n",
       "      <td>0.004574</td>\n",
       "      <td>0.6</td>\n",
       "      <td>0.3</td>\n",
       "      <td>{'learning_rate': 0.6, 'subsample': 0.3}</td>\n",
       "      <td>0.762119</td>\n",
       "      <td>0.771594</td>\n",
       "      <td>0.755738</td>\n",
       "      <td>...</td>\n",
       "      <td>0.761434</td>\n",
       "      <td>0.008488</td>\n",
       "      <td>6</td>\n",
       "      <td>0.878557</td>\n",
       "      <td>0.887165</td>\n",
       "      <td>0.877601</td>\n",
       "      <td>0.888753</td>\n",
       "      <td>0.882260</td>\n",
       "      <td>0.882867</td>\n",
       "      <td>0.004467</td>\n",
       "    </tr>\n",
       "    <tr>\n",
       "      <td>4</td>\n",
       "      <td>3.604521</td>\n",
       "      <td>0.165450</td>\n",
       "      <td>0.029787</td>\n",
       "      <td>0.010672</td>\n",
       "      <td>0.6</td>\n",
       "      <td>0.6</td>\n",
       "      <td>{'learning_rate': 0.6, 'subsample': 0.6}</td>\n",
       "      <td>0.784339</td>\n",
       "      <td>0.793105</td>\n",
       "      <td>0.789798</td>\n",
       "      <td>...</td>\n",
       "      <td>0.788020</td>\n",
       "      <td>0.004992</td>\n",
       "      <td>5</td>\n",
       "      <td>0.923525</td>\n",
       "      <td>0.924404</td>\n",
       "      <td>0.921596</td>\n",
       "      <td>0.922192</td>\n",
       "      <td>0.922840</td>\n",
       "      <td>0.922911</td>\n",
       "      <td>0.000986</td>\n",
       "    </tr>\n",
       "    <tr>\n",
       "      <td>5</td>\n",
       "      <td>3.400523</td>\n",
       "      <td>0.149741</td>\n",
       "      <td>0.023297</td>\n",
       "      <td>0.001791</td>\n",
       "      <td>0.6</td>\n",
       "      <td>0.9</td>\n",
       "      <td>{'learning_rate': 0.6, 'subsample': 0.9}</td>\n",
       "      <td>0.795046</td>\n",
       "      <td>0.806113</td>\n",
       "      <td>0.791384</td>\n",
       "      <td>...</td>\n",
       "      <td>0.794249</td>\n",
       "      <td>0.006331</td>\n",
       "      <td>4</td>\n",
       "      <td>0.934735</td>\n",
       "      <td>0.935833</td>\n",
       "      <td>0.940046</td>\n",
       "      <td>0.937106</td>\n",
       "      <td>0.934339</td>\n",
       "      <td>0.936412</td>\n",
       "      <td>0.002056</td>\n",
       "    </tr>\n",
       "  </tbody>\n",
       "</table>\n",
       "<p>6 rows × 22 columns</p>\n",
       "</div>"
      ],
      "text/plain": [
       "   mean_fit_time  std_fit_time  mean_score_time  std_score_time  \\\n",
       "0       3.037016      0.228031         0.029662        0.003762   \n",
       "1       3.612552      0.142673         0.026946        0.003609   \n",
       "2       3.405383      0.179424         0.027044        0.001766   \n",
       "3       3.026884      0.159223         0.025365        0.004574   \n",
       "4       3.604521      0.165450         0.029787        0.010672   \n",
       "5       3.400523      0.149741         0.023297        0.001791   \n",
       "\n",
       "  param_learning_rate param_subsample  \\\n",
       "0                 0.2             0.3   \n",
       "1                 0.2             0.6   \n",
       "2                 0.2             0.9   \n",
       "3                 0.6             0.3   \n",
       "4                 0.6             0.6   \n",
       "5                 0.6             0.9   \n",
       "\n",
       "                                     params  split0_test_score  \\\n",
       "0  {'learning_rate': 0.2, 'subsample': 0.3}           0.804455   \n",
       "1  {'learning_rate': 0.2, 'subsample': 0.6}           0.808237   \n",
       "2  {'learning_rate': 0.2, 'subsample': 0.9}           0.810460   \n",
       "3  {'learning_rate': 0.6, 'subsample': 0.3}           0.762119   \n",
       "4  {'learning_rate': 0.6, 'subsample': 0.6}           0.784339   \n",
       "5  {'learning_rate': 0.6, 'subsample': 0.9}           0.795046   \n",
       "\n",
       "   split1_test_score  split2_test_score  ...  mean_test_score  std_test_score  \\\n",
       "0           0.822099           0.806480  ...         0.808767        0.007325   \n",
       "1           0.832234           0.810714  ...         0.815666        0.008920   \n",
       "2           0.833012           0.816183  ...         0.819014        0.008506   \n",
       "3           0.771594           0.755738  ...         0.761434        0.008488   \n",
       "4           0.793105           0.789798  ...         0.788020        0.004992   \n",
       "5           0.806113           0.791384  ...         0.794249        0.006331   \n",
       "\n",
       "   rank_test_score  split0_train_score  split1_train_score  \\\n",
       "0                3            0.880231            0.879410   \n",
       "1                2            0.889434            0.888275   \n",
       "2                1            0.889058            0.888644   \n",
       "3                6            0.878557            0.887165   \n",
       "4                5            0.923525            0.924404   \n",
       "5                4            0.934735            0.935833   \n",
       "\n",
       "   split2_train_score  split3_train_score  split4_train_score  \\\n",
       "0            0.881012            0.881906            0.879011   \n",
       "1            0.891161            0.890239            0.888770   \n",
       "2            0.891217            0.889588            0.891240   \n",
       "3            0.877601            0.888753            0.882260   \n",
       "4            0.921596            0.922192            0.922840   \n",
       "5            0.940046            0.937106            0.934339   \n",
       "\n",
       "   mean_train_score  std_train_score  \n",
       "0          0.880314         0.001053  \n",
       "1          0.889576         0.001031  \n",
       "2          0.889949         0.001086  \n",
       "3          0.882867         0.004467  \n",
       "4          0.922911         0.000986  \n",
       "5          0.936412         0.002056  \n",
       "\n",
       "[6 rows x 22 columns]"
      ]
     },
     "execution_count": 231,
     "metadata": {},
     "output_type": "execute_result"
    }
   ],
   "source": [
    "cv_results"
   ]
  },
  {
   "cell_type": "code",
   "execution_count": 244,
   "metadata": {},
   "outputs": [
    {
     "data": {
      "image/png": "[encoded data removed]",
      "text/plain": [
       "<Figure size 1152x432 with 4 Axes>"
      ]
     },
     "metadata": {
      "needs_background": "light"
     },
     "output_type": "display_data"
    }
   ],
   "source": [
    "# # plotting\n",
    "plt.figure(figsize=(16,6))\n",
    "\n",
    "param_grid = {'learning_rate': [0.4,0.6,0.8, 1.0], \n",
    "             'subsample': [0.5, 0.8, 0.9,0.98]} \n",
    "\n",
    "\n",
    "for n, subsample in enumerate(param_grid['subsample']):\n",
    "    \n",
    "\n",
    "    # subplot 1/n\n",
    "    plt.subplot(1,len(param_grid['subsample']), n+1)\n",
    "    df = cv_results[cv_results['param_subsample']==subsample]\n",
    "\n",
    "    plt.plot(df[\"param_learning_rate\"], df[\"mean_test_score\"])\n",
    "    plt.plot(df[\"param_learning_rate\"], df[\"mean_train_score\"])\n",
    "    plt.xlabel('learning_rate')\n",
    "    plt.ylabel('AUC')\n",
    "    plt.title(\"subsample={0}\".format(subsample))\n",
    "    plt.ylim([0.60, 1])\n",
    "    plt.legend(['test score', 'train score'], loc='upper left')\n",
    "    plt.xscale('log')"
   ]
  },
  {
   "cell_type": "code",
   "execution_count": 237,
   "metadata": {},
   "outputs": [
    {
     "name": "stdout",
     "output_type": "stream",
     "text": [
      "[23:54:41] WARNING: C:\\Users\\Administrator\\workspace\\xgboost-win64_release_1.2.0\\src\\learner.cc:516: \n",
      "Parameters: { params } might not be used.\n",
      "\n",
      "  This may not be accurate due to some parameters are only used in language bindings but\n",
      "  passed down to XGBoost core.  Or some parameters are not used but slip through this\n",
      "  verification. Please open an issue if you find above cases.\n",
      "\n",
      "\n"
     ]
    },
    {
     "data": {
      "text/plain": [
       "XGBClassifier(base_score=0.5, booster='gbtree', colsample_bylevel=1,\n",
       "              colsample_bynode=1, colsample_bytree=1, gamma=0, gpu_id=-1,\n",
       "              importance_type='gain', interaction_constraints='',\n",
       "              learning_rate=0.300000012, max_delta_step=0, max_depth=6,\n",
       "              min_child_weight=1, missing=nan, monotone_constraints='()',\n",
       "              n_estimators=100, n_jobs=0, num_parallel_tree=1,\n",
       "              params={'learning_rate': 0.2, 'max_depth': 2, 'n_estimators': 200,\n",
       "                      'objective': 'binary:logistic', 'subsample': 0.9},\n",
       "              random_state=0, reg_alpha=0, reg_lambda=1, scale_pos_weight=1,\n",
       "              subsample=1, tree_method='exact', validate_parameters=1,\n",
       "              verbosity=None)"
      ]
     },
     "execution_count": 237,
     "metadata": {},
     "output_type": "execute_result"
    }
   ],
   "source": [
    "# chosen hyperparameters\n",
    "# 'objective':'binary:logistic' outputs probability rather than label, which we need for auc\n",
    "params = {'learning_rate': 0.2,\n",
    "          'max_depth': 2, \n",
    "          'n_estimators':200,\n",
    "          'subsample':0.9,\n",
    "         'objective':'binary:logistic'}\n",
    "\n",
    "# fit model on training data\n",
    "model = XGBClassifier(params = params)\n",
    "model.fit(x_train, y_train)"
   ]
  },
  {
   "cell_type": "code",
   "execution_count": 238,
   "metadata": {},
   "outputs": [
    {
     "data": {
      "text/plain": [
       "array([[7.5450063e-02, 9.2454994e-01],\n",
       "       [5.5294418e-01, 4.4705585e-01],\n",
       "       [9.9928916e-01, 7.1082107e-04],\n",
       "       [9.5723486e-01, 4.2765159e-02],\n",
       "       [9.4753748e-01, 5.2462537e-02],\n",
       "       [9.5769370e-01, 4.2306304e-02],\n",
       "       [9.3097389e-01, 6.9026127e-02],\n",
       "       [8.6221105e-01, 1.3778894e-01],\n",
       "       [7.0448458e-01, 2.9551545e-01],\n",
       "       [9.2512441e-01, 7.4875601e-02]], dtype=float32)"
      ]
     },
     "execution_count": 238,
     "metadata": {},
     "output_type": "execute_result"
    }
   ],
   "source": [
    "# predict\n",
    "y_pred = model.predict_proba(x_valid)\n",
    "y_pred[:10]"
   ]
  },
  {
   "cell_type": "code",
   "execution_count": 240,
   "metadata": {},
   "outputs": [
    {
     "data": {
      "text/plain": [
       "0.8222445620614562"
      ]
     },
     "execution_count": 240,
     "metadata": {},
     "output_type": "execute_result"
    }
   ],
   "source": [
    "# roc_auc\n",
    "auc = roc_auc_score(y_valid, y_pred[:, 1])\n",
    "auc"
   ]
  },
  {
   "cell_type": "code",
   "execution_count": null,
   "metadata": {},
   "outputs": [],
   "source": []
  }
 ],
 "metadata": {
  "kernelspec": {
   "display_name": "Python 3",
   "language": "python",
   "name": "python3"
  },
  "language_info": {
   "codemirror_mode": {
    "name": "ipython",
    "version": 3
   },
   "file_extension": ".py",
   "mimetype": "text/x-python",
   "name": "python",
   "nbconvert_exporter": "python",
   "pygments_lexer": "ipython3",
   "version": "3.7.4"
  }
 },
 "nbformat": 4,
 "nbformat_minor": 2
}
